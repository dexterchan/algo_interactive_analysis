{
 "cells": [
  {
   "cell_type": "code",
   "execution_count": null,
   "id": "9b51e217",
   "metadata": {},
   "outputs": [],
   "source": [
    "import talib"
   ]
  },
  {
   "cell_type": "code",
   "execution_count": null,
   "id": "034244bc",
   "metadata": {},
   "outputs": [],
   "source": [
    "api_key = open('/tmp/.secret/alphavantage_api_key.txt').read()"
   ]
  },
  {
   "cell_type": "code",
   "execution_count": null,
   "id": "2f5c6657",
   "metadata": {},
   "outputs": [],
   "source": [
    "symbol = \"RTX\""
   ]
  },
  {
   "cell_type": "code",
   "execution_count": null,
   "id": "2a2f4f02",
   "metadata": {},
   "outputs": [],
   "source": [
    "url = f\"https://www.alphavantage.co/query?function=TIME_SERIES_DAILY_ADJUSTED&symbol={symbol}&apikey={api_key}\""
   ]
  },
  {
   "cell_type": "code",
   "execution_count": null,
   "id": "09ad5153",
   "metadata": {},
   "outputs": [],
   "source": [
    "import requests\n",
    "res = requests.get(url)\n",
    "print(res.status_code)"
   ]
  },
  {
   "cell_type": "code",
   "execution_count": null,
   "id": "f8734d81",
   "metadata": {},
   "outputs": [],
   "source": [
    "raw_data:dict = res.json()"
   ]
  },
  {
   "cell_type": "code",
   "execution_count": null,
   "id": "d297980d",
   "metadata": {},
   "outputs": [],
   "source": [
    "#Convert alphavantage time series to pandas dataframe\n",
    "import pandas as pd\n",
    "res_df = pd.DataFrame(raw_data[\"Time Series (Daily)\"],dtype=float).T"
   ]
  },
  {
   "cell_type": "code",
   "execution_count": null,
   "id": "9110f212",
   "metadata": {},
   "outputs": [],
   "source": [
    "#convert panda dataframe index to datetime\n",
    "res_df.index = pd.to_datetime(res_df.index)\n",
    "#calculate talib SMA from pandas dataframe\n",
    "res_df[\"SMA10\"] = talib.SMA(res_df[\"4. close\"].astype(float), timeperiod=10).astype(float)\n",
    "res_df[\"SMA200\"] = talib.SMA(res_df[\"4. close\"].astype(float), timeperiod=200).astype(float)\n",
    "#calculate talib RSI from pandas dataframe\n",
    "res_df[\"RSI\"] = talib.RSI(res_df[\"4. close\"].astype(float), timeperiod=14).astype(float)\n",
    "res_df.dtypes"
   ]
  },
  {
   "cell_type": "code",
   "execution_count": null,
   "id": "5d7fc8e7",
   "metadata": {},
   "outputs": [],
   "source": [
    "#PLotly graph with candlestick and sma\n",
    "#Make plotly subplot of primary and secondary y axis\n",
    "from plotly.subplots import make_subplots\n",
    "import plotly.graph_objects as go\n",
    "fig = make_subplots(rows=2, cols=1,\n",
    "                        specs=[[{\"secondary_y\": True}],\n",
    "                             [{\"secondary_y\": True}]],\n",
    "                        shared_xaxes=True,\n",
    "                        row_heights=[10, 8])\n",
    "\n",
    "# #Plot the close price\n",
    "# fig = px.line(res_df, x=res_df.index, y=[\"4. close\",  \"SMA10\", \"SMA200\"])\n",
    "\n",
    "#Plot the candlestick\n",
    "fig.add_trace(\n",
    "    go.Candlestick(\n",
    "        x=res_df.index,\n",
    "        open=res_df[\"1. open\"],\n",
    "        high=res_df[\"2. high\"],\n",
    "        low=res_df[\"3. low\"],\n",
    "        close=res_df[\"4. close\"],\n",
    "        name=\"Candlestick\"\n",
    "    ),row=1,col=1\n",
    ")\n",
    "\n",
    "#subplot RSI in a separate graph\n",
    "fig.add_scatter(x=res_df.index, y=res_df[\"RSI\"], row=2, col=1\n",
    "                 ,name=\"RSI\")\n",
    "\n",
    "\n",
    "\n",
    "# fig.update_yaxes(range=[ 80,110]) \n",
    "# print(fig.layout)\n",
    "fig.update_layout(margin=dict(l=20, r=20, t=20, b=20),\n",
    "        paper_bgcolor=\"LightSteelBlue\",\n",
    "        showlegend=False,\n",
    "        xaxis= {'rangeslider': {'visible': False},\n",
    "              'showticklabels': False},\n",
    "        xaxis2= {'rangeslider': {'visible': True}},\n",
    "        yaxis = dict(title=\"candles\", range=[80,110]),\n",
    "        yaxis3 = dict(title=\"RSI\", range=[0,80]),\n",
    ")\n",
    "\n",
    "# fig.update_layout(width=1600, height=400)\n",
    "# fig.update_xaxes(rangeslider_visible=True)\n",
    "#fig.update_yaxes(range=[0,100])\n",
    "print(fig.layout)\n",
    "fig.show()\n",
    "\n"
   ]
  },
  {
   "cell_type": "code",
   "execution_count": null,
   "id": "68ab83e1",
   "metadata": {},
   "outputs": [],
   "source": [
    "print(fig.layout)"
   ]
  }
 ],
 "metadata": {
  "kernelspec": {
   "display_name": "Python [conda env:root] *",
   "language": "python",
   "name": "conda-root-py"
  }
 },
 "nbformat": 4,
 "nbformat_minor": 5
}
