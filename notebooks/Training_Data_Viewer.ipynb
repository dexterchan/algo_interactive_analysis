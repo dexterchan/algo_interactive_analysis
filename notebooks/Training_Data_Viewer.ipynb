{
 "cells": [
  {
   "cell_type": "code",
   "execution_count": 4,
   "id": "b8cfe28f",
   "metadata": {},
   "outputs": [],
   "source": [
    "import pandas as pd\n",
    "import pyarrow.dataset as pqds\n",
    "from pyarrow import fs\n",
    "import pyarrow as pa\n",
    "import math\n",
    "import os"
   ]
  },
  {
   "cell_type": "code",
   "execution_count": 7,
   "id": "27c4aafd",
   "metadata": {},
   "outputs": [
    {
     "data": {
      "text/plain": [
       "'/workspaces/algo_interactive_analysis/notebooks'"
      ]
     },
     "execution_count": 7,
     "metadata": {},
     "output_type": "execute_result"
    }
   ],
   "source": [
    "os.getcwd()"
   ]
  },
  {
   "cell_type": "code",
   "execution_count": 9,
   "id": "f85f330c",
   "metadata": {},
   "outputs": [],
   "source": [
    "data_path = \"data/training/kraken/ETHUSD/20230504\"\n",
    "# Read parquet file from data_path as pyarrown dateset\n",
    "dataset: pqds.dataset = pqds.dataset(\n",
    "            data_path,\n",
    "            format=\"parquet\"\n",
    "        )\n",
    "\n",
    "dt: pa.table = dataset.to_table()\n",
    "df: pd.DataFrame = dt.to_pandas()\n",
    "#Make column timestamp as pandas datetime index\n",
    "#df.set_index(\"timestamp\", inplace=True)\n",
    "# #convert timestamp ms to datetime\n",
    "# df.index = pd.to_datetime(df.index, unit=\"ms\")\n"
   ]
  },
  {
   "cell_type": "code",
   "execution_count": 10,
   "id": "16c61875",
   "metadata": {},
   "outputs": [
    {
     "data": {
      "text/html": [
       "<div>\n",
       "<style scoped>\n",
       "    .dataframe tbody tr th:only-of-type {\n",
       "        vertical-align: middle;\n",
       "    }\n",
       "\n",
       "    .dataframe tbody tr th {\n",
       "        vertical-align: top;\n",
       "    }\n",
       "\n",
       "    .dataframe thead th {\n",
       "        text-align: right;\n",
       "    }\n",
       "</style>\n",
       "<table border=\"1\" class=\"dataframe\">\n",
       "  <thead>\n",
       "    <tr style=\"text-align: right;\">\n",
       "      <th></th>\n",
       "      <th>open</th>\n",
       "      <th>high</th>\n",
       "      <th>low</th>\n",
       "      <th>close</th>\n",
       "      <th>volume</th>\n",
       "    </tr>\n",
       "  </thead>\n",
       "  <tbody>\n",
       "    <tr>\n",
       "      <th>2021-06-25 00:00:00</th>\n",
       "      <td>1988.19</td>\n",
       "      <td>2011.87</td>\n",
       "      <td>1988.18</td>\n",
       "      <td>2001.08</td>\n",
       "      <td>582.996525</td>\n",
       "    </tr>\n",
       "    <tr>\n",
       "      <th>2021-06-25 00:15:00</th>\n",
       "      <td>2003.75</td>\n",
       "      <td>2014.99</td>\n",
       "      <td>1998.80</td>\n",
       "      <td>2008.94</td>\n",
       "      <td>254.242506</td>\n",
       "    </tr>\n",
       "    <tr>\n",
       "      <th>2021-06-25 00:30:00</th>\n",
       "      <td>2008.94</td>\n",
       "      <td>2011.37</td>\n",
       "      <td>2000.94</td>\n",
       "      <td>2003.37</td>\n",
       "      <td>87.047154</td>\n",
       "    </tr>\n",
       "    <tr>\n",
       "      <th>2021-06-25 00:45:00</th>\n",
       "      <td>2002.19</td>\n",
       "      <td>2002.19</td>\n",
       "      <td>1984.92</td>\n",
       "      <td>1984.92</td>\n",
       "      <td>123.509427</td>\n",
       "    </tr>\n",
       "    <tr>\n",
       "      <th>2021-06-25 01:00:00</th>\n",
       "      <td>1985.05</td>\n",
       "      <td>1985.05</td>\n",
       "      <td>1968.67</td>\n",
       "      <td>1969.43</td>\n",
       "      <td>257.865194</td>\n",
       "    </tr>\n",
       "    <tr>\n",
       "      <th>...</th>\n",
       "      <td>...</td>\n",
       "      <td>...</td>\n",
       "      <td>...</td>\n",
       "      <td>...</td>\n",
       "      <td>...</td>\n",
       "    </tr>\n",
       "    <tr>\n",
       "      <th>2021-01-21 23:00:00</th>\n",
       "      <td>1133.99</td>\n",
       "      <td>1157.50</td>\n",
       "      <td>1124.92</td>\n",
       "      <td>1126.27</td>\n",
       "      <td>6596.870604</td>\n",
       "    </tr>\n",
       "    <tr>\n",
       "      <th>2021-01-21 23:15:00</th>\n",
       "      <td>1124.93</td>\n",
       "      <td>1148.17</td>\n",
       "      <td>1124.39</td>\n",
       "      <td>1134.00</td>\n",
       "      <td>2408.911782</td>\n",
       "    </tr>\n",
       "    <tr>\n",
       "      <th>2021-01-21 23:30:00</th>\n",
       "      <td>1134.00</td>\n",
       "      <td>1150.00</td>\n",
       "      <td>1132.91</td>\n",
       "      <td>1142.03</td>\n",
       "      <td>2633.187131</td>\n",
       "    </tr>\n",
       "    <tr>\n",
       "      <th>2021-01-21 23:45:00</th>\n",
       "      <td>1141.79</td>\n",
       "      <td>1143.36</td>\n",
       "      <td>1108.06</td>\n",
       "      <td>1111.76</td>\n",
       "      <td>4210.655495</td>\n",
       "    </tr>\n",
       "    <tr>\n",
       "      <th>2021-01-22 00:00:00</th>\n",
       "      <td>1111.59</td>\n",
       "      <td>1116.62</td>\n",
       "      <td>1109.80</td>\n",
       "      <td>1110.78</td>\n",
       "      <td>507.002466</td>\n",
       "    </tr>\n",
       "  </tbody>\n",
       "</table>\n",
       "<p>53749 rows × 5 columns</p>\n",
       "</div>"
      ],
      "text/plain": [
       "                        open     high      low    close       volume\n",
       "2021-06-25 00:00:00  1988.19  2011.87  1988.18  2001.08   582.996525\n",
       "2021-06-25 00:15:00  2003.75  2014.99  1998.80  2008.94   254.242506\n",
       "2021-06-25 00:30:00  2008.94  2011.37  2000.94  2003.37    87.047154\n",
       "2021-06-25 00:45:00  2002.19  2002.19  1984.92  1984.92   123.509427\n",
       "2021-06-25 01:00:00  1985.05  1985.05  1968.67  1969.43   257.865194\n",
       "...                      ...      ...      ...      ...          ...\n",
       "2021-01-21 23:00:00  1133.99  1157.50  1124.92  1126.27  6596.870604\n",
       "2021-01-21 23:15:00  1124.93  1148.17  1124.39  1134.00  2408.911782\n",
       "2021-01-21 23:30:00  1134.00  1150.00  1132.91  1142.03  2633.187131\n",
       "2021-01-21 23:45:00  1141.79  1143.36  1108.06  1111.76  4210.655495\n",
       "2021-01-22 00:00:00  1111.59  1116.62  1109.80  1110.78   507.002466\n",
       "\n",
       "[53749 rows x 5 columns]"
      ]
     },
     "execution_count": 10,
     "metadata": {},
     "output_type": "execute_result"
    }
   ],
   "source": [
    "df"
   ]
  }
 ],
 "metadata": {
  "kernelspec": {
   "display_name": "Python [conda env:root] *",
   "language": "python",
   "name": "conda-root-py"
  },
  "language_info": {
   "codemirror_mode": {
    "name": "ipython",
    "version": 3
   },
   "file_extension": ".py",
   "mimetype": "text/x-python",
   "name": "python",
   "nbconvert_exporter": "python",
   "pygments_lexer": "ipython3",
   "version": "3.9.10"
  }
 },
 "nbformat": 4,
 "nbformat_minor": 5
}
