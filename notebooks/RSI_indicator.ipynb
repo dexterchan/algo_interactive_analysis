{
 "cells": [
  {
   "cell_type": "code",
   "execution_count": 1,
   "id": "83b7f934",
   "metadata": {},
   "outputs": [],
   "source": [
    "import pandas as pd\n",
    "import numpy as np\n",
    "from datetime import datetime, timedelta"
   ]
  },
  {
   "cell_type": "code",
   "execution_count": 2,
   "id": "7d741670",
   "metadata": {},
   "outputs": [],
   "source": [
    "def get_test_decending_then_ascending_mkt_data(dim: int = 100, step: int = 100) -> pd.DataFrame:\n",
    "        # Generate pandas dataframe of timestamps records\n",
    "        df = pd.DataFrame(\n",
    "            data={\n",
    "                \"timestamp\": pd.date_range(\n",
    "                    start=datetime.now(), periods=dim, freq=timedelta(hours=1)\n",
    "                ),\n",
    "                \"inx\": np.arange(dim),\n",
    "            }\n",
    "        )\n",
    "        # mid point of the data\n",
    "        mid = int(dim / 2)\n",
    "        # Create nunmpy array of dim in length\n",
    "        arr = np.arange(dim)\n",
    "        for i in range(mid):\n",
    "            arr[i] = (mid - i) * step + 1000\n",
    "        for i in range(mid, dim):\n",
    "            arr[i] = (i - mid) * step + 1000\n",
    "        df.set_index(\"timestamp\", inplace=True, drop=True)\n",
    "        # Assign numpy array arr to df[\"close\"]\n",
    "        df[\"close\"] = arr\n",
    "        df[\"price_movement\"] = df[\"close\"].diff()\n",
    "        return df"
   ]
  },
  {
   "cell_type": "code",
   "execution_count": 3,
   "id": "ed4b9aa7",
   "metadata": {},
   "outputs": [],
   "source": [
    "test_data = get_test_decending_then_ascending_mkt_data(100)\n",
    "LOOK_BACK = 3"
   ]
  },
  {
   "cell_type": "code",
   "execution_count": 4,
   "id": "1fb188be",
   "metadata": {},
   "outputs": [],
   "source": [
    "from preprocess_data.domains.features_gen import calculate_rsi\n",
    "rsi = calculate_rsi(df_price=test_data[\"close\"],window=14)"
   ]
  },
  {
   "cell_type": "code",
   "execution_count": 5,
   "id": "0880dd1e",
   "metadata": {},
   "outputs": [
    {
     "data": {
      "text/plain": [
       "timestamp\n",
       "2023-04-28 23:50:53.910436          NaN\n",
       "2023-04-29 00:50:53.910436          NaN\n",
       "2023-04-29 01:50:53.910436          NaN\n",
       "2023-04-29 02:50:53.910436          NaN\n",
       "2023-04-29 03:50:53.910436          NaN\n",
       "                                ...    \n",
       "2023-05-02 22:50:53.910436    96.522583\n",
       "2023-05-02 23:50:53.910436    96.771172\n",
       "2023-05-03 00:50:53.910436    97.001977\n",
       "2023-05-03 01:50:53.910436    97.216271\n",
       "2023-05-03 02:50:53.910436    97.415239\n",
       "Name: close, Length: 100, dtype: float64"
      ]
     },
     "execution_count": 5,
     "metadata": {},
     "output_type": "execute_result"
    }
   ],
   "source": [
    "rsi"
   ]
  },
  {
   "cell_type": "code",
   "execution_count": 6,
   "id": "14cadb68",
   "metadata": {},
   "outputs": [],
   "source": [
    "# df_price = test_data[\"close\"]\n",
    "# periods=14\n",
    "# delta = df_price.diff()\n",
    "# up = delta.clip(lower=0)\n",
    "# down = -1*delta.clip(upper=0)\n",
    "# ma_up = up.ewm(com = periods - 1, adjust=True, min_periods = periods).mean()\n",
    "# ma_down = down.ewm(com = periods - 1, adjust=True, min_periods = periods).mean()\n",
    "# rsi = ma_up / ma_down\n",
    "# rsi = 100 - (100/(1 + rsi))"
   ]
  },
  {
   "cell_type": "code",
   "execution_count": null,
   "id": "2870c50e",
   "metadata": {},
   "outputs": [],
   "source": []
  },
  {
   "cell_type": "code",
   "execution_count": null,
   "id": "0b4a6002",
   "metadata": {},
   "outputs": [],
   "source": []
  },
  {
   "cell_type": "code",
   "execution_count": 7,
   "id": "0ae326b2",
   "metadata": {},
   "outputs": [],
   "source": [
    "import talib\n",
    "rsi_talib = talib.RSI(test_data[\"close\"], timeperiod=14)"
   ]
  },
  {
   "cell_type": "code",
   "execution_count": 8,
   "id": "1367a1e4",
   "metadata": {},
   "outputs": [
    {
     "data": {
      "text/plain": [
       "100"
      ]
     },
     "execution_count": 8,
     "metadata": {},
     "output_type": "execute_result"
    }
   ],
   "source": [
    "len(rsi_talib)"
   ]
  },
  {
   "cell_type": "code",
   "execution_count": 9,
   "id": "5a982b32",
   "metadata": {},
   "outputs": [
    {
     "data": {
      "text/plain": [
       "86"
      ]
     },
     "execution_count": 9,
     "metadata": {},
     "output_type": "execute_result"
    }
   ],
   "source": [
    "len(rsi_talib.dropna())"
   ]
  },
  {
   "cell_type": "code",
   "execution_count": 9,
   "id": "ee0f4bd1",
   "metadata": {},
   "outputs": [],
   "source": [
    "# Use Plotly Express to plot the RSI\n",
    "# then add a horizontal line at 70 and 30\n",
    "import plotly.graph_objects as go\n",
    "fig = go.Figure()\n",
    "fig.add_trace(go.Scatter(x=rsi.index, y=rsi.values, name=\"rsi\", mode=\"lines\"))\n",
    "\n",
    "fig.add_hline(y=70)\n",
    "fig.add_hline(y=30)\n",
    "fig.show()"
   ]
  },
  {
   "cell_type": "code",
   "execution_count": null,
   "id": "33d6312f",
   "metadata": {},
   "outputs": [],
   "source": [
    "# Use Plotly Express to plot the RSI\n",
    "# then add a horizontal line at 70 and 30\n",
    "import plotly.graph_objects as go\n",
    "fig = go.Figure()\n",
    "fig.add_trace(go.Scatter(x=rsi_talib.index, y=rsi_talib.values, name=\"rsi\", mode=\"lines\"))\n",
    "\n",
    "fig.add_hline(y=70)\n",
    "fig.add_hline(y=30)\n",
    "fig.show()"
   ]
  }
 ],
 "metadata": {
  "kernelspec": {
   "display_name": "Python [conda env:interactive-analysis] *",
   "language": "python",
   "name": "conda-env-interactive-analysis-py"
  },
  "language_info": {
   "codemirror_mode": {
    "name": "ipython",
    "version": 3
   },
   "file_extension": ".py",
   "mimetype": "text/x-python",
   "name": "python",
   "nbconvert_exporter": "python",
   "pygments_lexer": "ipython3",
   "version": "3.9.16"
  }
 },
 "nbformat": 4,
 "nbformat_minor": 5
}
