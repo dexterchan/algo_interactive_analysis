{
 "cells": [
  {
   "cell_type": "code",
   "execution_count": null,
   "id": "d20bd16b",
   "metadata": {},
   "outputs": [],
   "source": [
    "import pandas as pd\n",
    "import numpy as np\n",
    "from datetime import datetime, timedelta\n",
    "PLOT_DIAGRAM:bool = False"
   ]
  },
  {
   "cell_type": "code",
   "execution_count": null,
   "id": "5376c7c1",
   "metadata": {},
   "outputs": [],
   "source": [
    "def get_test_decending_then_ascending_mkt_data(dim: int = 100, step: int = 100) -> pd.DataFrame:\n",
    "        # Generate pandas dataframe of timestamps records\n",
    "        df = pd.DataFrame(\n",
    "            data={\n",
    "                \"timestamp\": pd.date_range(\n",
    "                    start=datetime.now(), periods=dim, freq=timedelta(hours=1)\n",
    "                ),\n",
    "                \"inx\": np.arange(dim),\n",
    "            }\n",
    "        )\n",
    "        # mid point of the data\n",
    "        mid = int(dim / 2)\n",
    "        # Create nunmpy array of dim in length\n",
    "        arr = np.arange(dim)\n",
    "        for i in range(mid):\n",
    "            arr[i] = (mid - i) * step + 1000\n",
    "        for i in range(mid, dim):\n",
    "            arr[i] = (i - mid) * step + 1000\n",
    "        df.set_index(\"timestamp\", inplace=True, drop=True)\n",
    "        # Assign numpy array arr to df[\"close\"]\n",
    "        df[\"close\"] = arr\n",
    "        df[\"price_movement\"] = df[\"close\"].diff()\n",
    "        return df"
   ]
  },
  {
   "cell_type": "code",
   "execution_count": null,
   "id": "714fb2f9",
   "metadata": {},
   "outputs": [],
   "source": [
    "test_data = get_test_decending_then_ascending_mkt_data(100)\n",
    "LOOK_BACK = 3"
   ]
  },
  {
   "cell_type": "code",
   "execution_count": null,
   "id": "f8890459",
   "metadata": {},
   "outputs": [],
   "source": [
    "from preprocess_data.domains.features_gen import SMA_Cross_Feature\n",
    "close_price = test_data[\"close\"]\n",
    "sma_cross = SMA_Cross_Feature(\n",
    "        df_price=close_price, sma_window_1=10, sma_window_2=20, dimension=LOOK_BACK\n",
    "    )"
   ]
  },
  {
   "cell_type": "code",
   "execution_count": null,
   "id": "082bfa04",
   "metadata": {},
   "outputs": [],
   "source": [
    "from preprocess_data.domains.indicators import calculate_simple_moving_average\n",
    "sma_1 = calculate_simple_moving_average(close_price, sma_cross.sma_window_1)\n",
    "sma_2 = calculate_simple_moving_average(close_price, sma_cross.sma_window_2)"
   ]
  },
  {
   "cell_type": "code",
   "execution_count": null,
   "id": "8a894342",
   "metadata": {},
   "outputs": [],
   "source": [
    "# Use plotly to plot close price, sma_1 and sma_2\n",
    "\n",
    "import plotly.graph_objects as go\n",
    "if PLOT_DIAGRAM:\n",
    "    fig = go.Figure()\n",
    "    fig.add_trace(go.Scatter(x=test_data.index, y=test_data[\"close\"], name=\"close\", mode=\"lines\"))\n",
    "    fig.add_trace(go.Scatter(x=test_data.index, y=sma_1, name=\"sma_1\", mode=\"lines\", line_dash=\"dot\"))\n",
    "    fig.add_trace(go.Scatter(x=test_data.index, y=sma_2, name=\"sma_2\", mode=\"lines\", line_dash=\"dot\"))\n",
    "    fig.show()"
   ]
  },
  {
   "cell_type": "code",
   "execution_count": null,
   "id": "86a19b19",
   "metadata": {},
   "outputs": [],
   "source": [
    "sma_cross_values:np.ndarray = sma_cross._calculate()"
   ]
  },
  {
   "cell_type": "code",
   "execution_count": null,
   "id": "c7759a8d",
   "metadata": {},
   "outputs": [],
   "source": [
    "#find the index of sma_cross_value with True value\n",
    "sma_cross_indices = np.where(sma_cross_values == True)[0] + sma_cross.invalid_data_length\n",
    "sma_cross_indices\n",
    "#Show the index of close prices with sma_cross_indices\n",
    "close_price[sma_cross_indices]"
   ]
  },
  {
   "cell_type": "markdown",
   "id": "1acdb3b2",
   "metadata": {},
   "source": [
    "## Load with market data"
   ]
  },
  {
   "cell_type": "code",
   "execution_count": null,
   "id": "f824574e",
   "metadata": {},
   "outputs": [],
   "source": [
    "local_data_dir = \"data\"\n",
    "test_exchange = \"kraken\"\n",
    "test_symbol = \"ETHUSD\"\n",
    "from_time_ms:int = int(datetime(2023,1,1).timestamp()*1000)\n",
    "to_time_ms:int = int(datetime(2023,3,1).timestamp()*1000)"
   ]
  },
  {
   "cell_type": "code",
   "execution_count": null,
   "id": "ad029a5b",
   "metadata": {},
   "outputs": [],
   "source": [
    "from cryptomarketdata.port.db_client import   get_data_db_client, Database_Type\n",
    "from cryptomarketdata.utility import resample_timeframe\n",
    "from datetime import datetime, timedelta\n",
    "import os\n",
    "db_client = get_data_db_client(\n",
    "        exchange=test_exchange, database_type=Database_Type.PARQUET, data_directory=local_data_dir\n",
    "    )"
   ]
  },
  {
   "cell_type": "code",
   "execution_count": null,
   "id": "1c9dc54d",
   "metadata": {},
   "outputs": [],
   "source": [
    "candles = db_client.get_candles(\n",
    "    symbol=test_symbol, from_time=from_time_ms, to_time=to_time_ms\n",
    ")\n",
    "candles = resample_timeframe(data=candles, tf=\"15Min\")\n",
    "close_price = candles[\"close\"]"
   ]
  },
  {
   "cell_type": "code",
   "execution_count": null,
   "id": "4d341102",
   "metadata": {},
   "outputs": [],
   "source": [
    "sma_cross = SMA_Cross_Feature(\n",
    "        df_price=close_price, sma_window_1=20, sma_window_2=100, dimension=LOOK_BACK\n",
    "    )\n",
    "\n",
    "num_features, dim = sma_cross.shape"
   ]
  },
  {
   "cell_type": "code",
   "execution_count": null,
   "id": "7b8b86b6",
   "metadata": {},
   "outputs": [],
   "source": [
    "raw_sma_10 = calculate_simple_moving_average(close_price, sma_cross.sma_window_1)\n",
    "raw_sma_20 = calculate_simple_moving_average(close_price, sma_cross.sma_window_2)\n",
    "sma_2 = calculate_simple_moving_average(close_price, sma_cross.sma_window_2)\n",
    "sma_features = sma_cross.output_feature_array()\n"
   ]
  },
  {
   "cell_type": "code",
   "execution_count": null,
   "id": "84f21d44",
   "metadata": {},
   "outputs": [],
   "source": [
    "def padding_zeros_left(arr:np.ndarray, dim:int)->np.ndarray:\n",
    "    \"\"\"\n",
    "    padding zeros to the left of the array to make the array length equal to dim\n",
    "    \"\"\"\n",
    "    arr_len = len(arr)\n",
    "    if arr_len == dim:\n",
    "        return arr\n",
    "    elif dim-arr_len > 0 :\n",
    "        return np.pad(arr, pad_width=(dim-arr_len, 0))\n",
    "    else:\n",
    "        return arr"
   ]
  },
  {
   "cell_type": "code",
   "execution_count": null,
   "id": "3f21e5d7",
   "metadata": {},
   "outputs": [],
   "source": [
    "# populate feature for visualization\n",
    "candles[\"sma10\"] = padding_zeros_left(raw_sma_10, len(candles))\n",
    "candles[\"sma20\"] = padding_zeros_left(raw_sma_20, len(candles))\n",
    "candles[\"cross\"] = padding_zeros_left(sma_features[:,0], len(candles))\n",
    "candles[\"cross-1\"] = padding_zeros_left(sma_features[:,1], len(candles))"
   ]
  },
  {
   "cell_type": "code",
   "execution_count": null,
   "id": "d9ecd087",
   "metadata": {},
   "outputs": [],
   "source": [
    "# With plotly, plot the close price, sma_10, sma_20 and sma_cross\n",
    "# sma_10 with dotted line and sma_20 with dash line\n",
    "# sma_cross with red dot for \"True\" value\n",
    "fig = go.Figure()\n",
    "fig.add_trace(go.Scatter(x=candles.index, y=candles[\"close\"], name=\"close\", mode=\"lines\"))\n",
    "fig.add_trace(go.Scatter(x=candles.index, y=candles[\"sma10\"], name=\"sma_10\", mode=\"lines\", line_dash=\"dot\"))\n",
    "fig.add_trace(go.Scatter(x=candles.index, y=candles[\"sma20\"], name=\"sma_20\", mode=\"lines\", line_dash=\"dash\"))\n",
    "\n",
    "#mark x for candles[\"cross\"] == True\n",
    "cross_indices = np.where(candles[\"cross\"] == True)[0]\n",
    "fig.add_trace(go.Scatter(x=candles.index[cross_indices], y=candles[\"close\"][cross_indices], name=\"sma_cross\", mode=\"markers\", marker=dict(color=\"red\", symbol=\"x\")))\n",
    "\n",
    "#mark o for candles[\"cross-1\"] == True\n",
    "cross_indices = np.where(candles[\"cross-1\"] == True)[0]\n",
    "fig.add_trace(go.Scatter(x=candles.index[cross_indices], y=candles[\"close\"][cross_indices], name=\"sma_cross-1\", mode=\"markers\", marker=dict(color=\"blue\", symbol=\"x\")))\n",
    "fig.show()"
   ]
  },
  {
   "cell_type": "code",
   "execution_count": null,
   "id": "367f3d5f",
   "metadata": {},
   "outputs": [],
   "source": [
    "(np.where(candles[\"cross\"] == True))"
   ]
  }
 ],
 "metadata": {
  "kernelspec": {
   "display_name": "Python [conda env:interactive-analysis] *",
   "language": "python",
   "name": "conda-env-interactive-analysis-py"
  },
  "language_info": {
   "codemirror_mode": {
    "name": "ipython",
    "version": 3
   },
   "file_extension": ".py",
   "mimetype": "text/x-python",
   "name": "python",
   "nbconvert_exporter": "python",
   "pygments_lexer": "ipython3",
   "version": "3.9.16"
  }
 },
 "nbformat": 4,
 "nbformat_minor": 5
}
