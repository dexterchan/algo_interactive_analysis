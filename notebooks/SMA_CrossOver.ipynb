{
 "cells": [
  {
   "cell_type": "code",
   "execution_count": 1,
   "id": "af8cb062",
   "metadata": {},
   "outputs": [],
   "source": [
    "import pandas as pd\n",
    "import numpy as np\n",
    "from datetime import datetime, timedelta"
   ]
  },
  {
   "cell_type": "code",
   "execution_count": 2,
   "id": "14f3702c",
   "metadata": {},
   "outputs": [],
   "source": [
    "def get_test_decending_then_ascending_mkt_data(dim: int = 100, step: int = 100) -> pd.DataFrame:\n",
    "        # Generate pandas dataframe of timestamps records\n",
    "        df = pd.DataFrame(\n",
    "            data={\n",
    "                \"timestamp\": pd.date_range(\n",
    "                    start=datetime.now(), periods=dim, freq=timedelta(hours=1)\n",
    "                ),\n",
    "                \"inx\": np.arange(dim),\n",
    "            }\n",
    "        )\n",
    "        # mid point of the data\n",
    "        mid = int(dim / 2)\n",
    "        # Create nunmpy array of dim in length\n",
    "        arr = np.arange(dim)\n",
    "        for i in range(mid):\n",
    "            arr[i] = (mid - i) * step + 1000\n",
    "        for i in range(mid, dim):\n",
    "            arr[i] = (i - mid) * step + 1000\n",
    "        df.set_index(\"timestamp\", inplace=True, drop=True)\n",
    "        # Assign numpy array arr to df[\"close\"]\n",
    "        df[\"close\"] = arr\n",
    "        df[\"price_movement\"] = df[\"close\"].diff()\n",
    "        return df"
   ]
  },
  {
   "cell_type": "code",
   "execution_count": 3,
   "id": "c0b08fc2",
   "metadata": {},
   "outputs": [],
   "source": [
    "test_data = get_test_decending_then_ascending_mkt_data(100)\n",
    "LOOK_BACK = 3"
   ]
  },
  {
   "cell_type": "code",
   "execution_count": 4,
   "id": "219c79c3",
   "metadata": {},
   "outputs": [],
   "source": [
    "from preprocess_data.domains.features_gen import SMA_Cross_Feature\n",
    "close_price = test_data[\"close\"]\n",
    "sma_cross = SMA_Cross_Feature(\n",
    "        df_price=close_price, sma_window_1=10, sma_window_2=20, dimension=LOOK_BACK\n",
    "    )"
   ]
  },
  {
   "cell_type": "code",
   "execution_count": 5,
   "id": "65b5555a",
   "metadata": {},
   "outputs": [],
   "source": [
    "from preprocess_data.domains.indicators import calculate_simple_moving_average\n",
    "sma_1 = calculate_simple_moving_average(close_price, sma_cross.sma_window_1)\n",
    "sma_2 = calculate_simple_moving_average(close_price, sma_cross.sma_window_2)"
   ]
  },
  {
   "cell_type": "code",
   "execution_count": 6,
   "id": "b5572d82",
   "metadata": {},
   "outputs": [],
   "source": [
    "# Use plotly to plot close price, sma_1 and sma_2\n",
    "import plotly.graph_objects as go\n",
    "fig = go.Figure(\n",
    "#     data=[\n",
    "#         go.Scatter(x=test_data.index, y=test_data[\"close\"], name=\"close\")\n",
    "#     ]\n",
    ")\n",
    "fig.add_trace(go.Scatter(x=test_data.index, y=test_data[\"close\"], name=\"close\", mode=\"lines\"))\n",
    "fig.add_trace(go.Scatter(x=test_data.index, y=sma_1, name=\"sma_1\", mode=\"lines\", line_dash=\"dot\"))\n",
    "fig.add_trace(go.Scatter(x=test_data.index, y=sma_2, name=\"sma_2\", mode=\"lines\", line_dash=\"dot\"))\n",
    "fig.show()"
   ]
  },
  {
   "cell_type": "code",
   "execution_count": 7,
   "id": "2b788e60",
   "metadata": {},
   "outputs": [],
   "source": [
    "sma_cross_values:np.ndarray = sma_cross._calculate()"
   ]
  },
  {
   "cell_type": "code",
   "execution_count": 8,
   "id": "e7a04f3e",
   "metadata": {},
   "outputs": [
    {
     "data": {
      "text/plain": [
       "timestamp\n",
       "2023-04-30 10:02:01.699550    2000\n",
       "Name: close, dtype: int64"
      ]
     },
     "execution_count": 8,
     "metadata": {},
     "output_type": "execute_result"
    }
   ],
   "source": [
    "#find the index of sma_cross_value with True value\n",
    "sma_cross_indices = np.where(sma_cross_values == True)[0] + sma_cross.invalid_data_length\n",
    "sma_cross_indices\n",
    "#Show the index of close prices with sma_cross_indices\n",
    "close_price[sma_cross_indices]"
   ]
  }
 ],
 "metadata": {
  "kernelspec": {
   "display_name": "Python [conda env:interactive-analysis] *",
   "language": "python",
   "name": "conda-env-interactive-analysis-py"
  },
  "language_info": {
   "codemirror_mode": {
    "name": "ipython",
    "version": 3
   },
   "file_extension": ".py",
   "mimetype": "text/x-python",
   "name": "python",
   "nbconvert_exporter": "python",
   "pygments_lexer": "ipython3",
   "version": "3.9.16"
  }
 },
 "nbformat": 4,
 "nbformat_minor": 5
}
