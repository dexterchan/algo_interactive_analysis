{
 "cells": [
  {
   "cell_type": "code",
   "execution_count": 7,
   "id": "05a0c9e6",
   "metadata": {},
   "outputs": [],
   "source": [
    "import pandas as pd\n",
    "import pyarrow.dataset as pqds\n",
    "from pyarrow import fs\n",
    "import pyarrow as pa\n",
    "import math"
   ]
  },
  {
   "cell_type": "code",
   "execution_count": 8,
   "id": "83a0afda",
   "metadata": {},
   "outputs": [],
   "source": [
    "data_path = \"data/kraken.ETHUSD\"\n",
    "data_set_index = \"dsindex\"\n",
    "begin_partition:int = 202201\n",
    "end_partition:int = 202303\n",
    "# Read parquet file from data_path as pyarrown dateset\n",
    "dataset: pqds.dataset = pqds.dataset(\n",
    "            data_path,\n",
    "            format=\"parquet\",\n",
    "            partitioning=\"hive\",\n",
    "            filesystem=fs.LocalFileSystem(),\n",
    "        )\n",
    "\n",
    "criteria = (pqds.field(data_set_index) >= begin_partition) & (\n",
    "            pqds.field(data_set_index) <= end_partition\n",
    "        )\n",
    "dt: pa.table = dataset.to_table(filter=criteria)\n",
    "df: pd.DataFrame = dt.to_pandas()\n",
    "#Make column timestamp as pandas datetime index\n",
    "df.set_index(\"timestamp\", inplace=True)\n",
    "#convert timestamp ms to datetime\n",
    "df.index = pd.to_datetime(df.index, unit=\"ms\")\n",
    "# Resample candlestick to 60 minutes in length\n",
    "df = df.resample(\"15Min\").agg({\"open\": \"first\", \"high\": \"max\", \"low\": \"min\", \"close\": \"last\", \"volume\": \"sum\"})\n",
    "# Remove any rows with NaN values\n",
    "df.dropna(inplace=True)"
   ]
  },
  {
   "cell_type": "code",
   "execution_count": 9,
   "id": "f4ce87b3",
   "metadata": {},
   "outputs": [
    {
     "data": {
      "text/html": [
       "<div>\n",
       "<style scoped>\n",
       "    .dataframe tbody tr th:only-of-type {\n",
       "        vertical-align: middle;\n",
       "    }\n",
       "\n",
       "    .dataframe tbody tr th {\n",
       "        vertical-align: top;\n",
       "    }\n",
       "\n",
       "    .dataframe thead th {\n",
       "        text-align: right;\n",
       "    }\n",
       "</style>\n",
       "<table border=\"1\" class=\"dataframe\">\n",
       "  <thead>\n",
       "    <tr style=\"text-align: right;\">\n",
       "      <th></th>\n",
       "      <th>open</th>\n",
       "      <th>high</th>\n",
       "      <th>low</th>\n",
       "      <th>close</th>\n",
       "      <th>volume</th>\n",
       "    </tr>\n",
       "    <tr>\n",
       "      <th>timestamp</th>\n",
       "      <th></th>\n",
       "      <th></th>\n",
       "      <th></th>\n",
       "      <th></th>\n",
       "      <th></th>\n",
       "    </tr>\n",
       "  </thead>\n",
       "  <tbody>\n",
       "    <tr>\n",
       "      <th>2022-01-01 00:00:00</th>\n",
       "      <td>3675.95</td>\n",
       "      <td>3702.03</td>\n",
       "      <td>3675.95</td>\n",
       "      <td>3692.80</td>\n",
       "      <td>217.362166</td>\n",
       "    </tr>\n",
       "    <tr>\n",
       "      <th>2022-01-01 00:15:00</th>\n",
       "      <td>3690.98</td>\n",
       "      <td>3698.61</td>\n",
       "      <td>3685.18</td>\n",
       "      <td>3695.60</td>\n",
       "      <td>146.046925</td>\n",
       "    </tr>\n",
       "    <tr>\n",
       "      <th>2022-01-01 00:30:00</th>\n",
       "      <td>3696.68</td>\n",
       "      <td>3713.95</td>\n",
       "      <td>3696.01</td>\n",
       "      <td>3713.95</td>\n",
       "      <td>56.123719</td>\n",
       "    </tr>\n",
       "    <tr>\n",
       "      <th>2022-01-01 00:45:00</th>\n",
       "      <td>3713.62</td>\n",
       "      <td>3725.00</td>\n",
       "      <td>3713.62</td>\n",
       "      <td>3723.33</td>\n",
       "      <td>138.238059</td>\n",
       "    </tr>\n",
       "    <tr>\n",
       "      <th>2022-01-01 01:00:00</th>\n",
       "      <td>3722.79</td>\n",
       "      <td>3725.00</td>\n",
       "      <td>3714.73</td>\n",
       "      <td>3725.00</td>\n",
       "      <td>196.826344</td>\n",
       "    </tr>\n",
       "  </tbody>\n",
       "</table>\n",
       "</div>"
      ],
      "text/plain": [
       "                        open     high      low    close      volume\n",
       "timestamp                                                          \n",
       "2022-01-01 00:00:00  3675.95  3702.03  3675.95  3692.80  217.362166\n",
       "2022-01-01 00:15:00  3690.98  3698.61  3685.18  3695.60  146.046925\n",
       "2022-01-01 00:30:00  3696.68  3713.95  3696.01  3713.95   56.123719\n",
       "2022-01-01 00:45:00  3713.62  3725.00  3713.62  3723.33  138.238059\n",
       "2022-01-01 01:00:00  3722.79  3725.00  3714.73  3725.00  196.826344"
      ]
     },
     "execution_count": 9,
     "metadata": {},
     "output_type": "execute_result"
    }
   ],
   "source": [
    "df.head()"
   ]
  },
  {
   "cell_type": "code",
   "execution_count": 10,
   "id": "215f5cdd",
   "metadata": {},
   "outputs": [],
   "source": [
    "# Shift the close price to the prev row\n",
    "df[\"prev_close\"] = df[\"close\"].shift(1)\n",
    "df[\"price_change\"] = df[\"close\"] / df[\"prev_close\"]\n",
    "# calcualte log of price_change column\n",
    "df[\"log_price_change\"] = df[\"price_change\"].apply(lambda x: math.log(x))\n"
   ]
  },
  {
   "cell_type": "code",
   "execution_count": 14,
   "id": "58dd31ab",
   "metadata": {},
   "outputs": [],
   "source": [
    "from preprocess.domain.indicators import calculate_log_price_change\n",
    "log_price_change = calculate_log_price_change(df[\"close\"])\n",
    "df[\"log_price_change2\"] = log_price_change\n"
   ]
  },
  {
   "cell_type": "code",
   "execution_count": 12,
   "id": "3b533799",
   "metadata": {},
   "outputs": [
    {
     "data": {
      "text/html": [
       "<div>\n",
       "<style scoped>\n",
       "    .dataframe tbody tr th:only-of-type {\n",
       "        vertical-align: middle;\n",
       "    }\n",
       "\n",
       "    .dataframe tbody tr th {\n",
       "        vertical-align: top;\n",
       "    }\n",
       "\n",
       "    .dataframe thead th {\n",
       "        text-align: right;\n",
       "    }\n",
       "</style>\n",
       "<table border=\"1\" class=\"dataframe\">\n",
       "  <thead>\n",
       "    <tr style=\"text-align: right;\">\n",
       "      <th></th>\n",
       "      <th>open</th>\n",
       "      <th>high</th>\n",
       "      <th>low</th>\n",
       "      <th>close</th>\n",
       "      <th>volume</th>\n",
       "      <th>prev_close</th>\n",
       "      <th>price_change</th>\n",
       "      <th>log_price_change</th>\n",
       "      <th>log_price_change2</th>\n",
       "    </tr>\n",
       "    <tr>\n",
       "      <th>timestamp</th>\n",
       "      <th></th>\n",
       "      <th></th>\n",
       "      <th></th>\n",
       "      <th></th>\n",
       "      <th></th>\n",
       "      <th></th>\n",
       "      <th></th>\n",
       "      <th></th>\n",
       "      <th></th>\n",
       "    </tr>\n",
       "  </thead>\n",
       "  <tbody>\n",
       "  </tbody>\n",
       "</table>\n",
       "</div>"
      ],
      "text/plain": [
       "Empty DataFrame\n",
       "Columns: [open, high, low, close, volume, prev_close, price_change, log_price_change, log_price_change2]\n",
       "Index: []"
      ]
     },
     "execution_count": 12,
     "metadata": {},
     "output_type": "execute_result"
    }
   ],
   "source": [
    "# Remove the first row\n",
    "df = df.iloc[1:]\n",
    "c = (df[\"log_price_change\"] - df[\"log_price_change2\"] < 0.00001)\n",
    "#show any c = False\n",
    "df[~c]"
   ]
  },
  {
   "cell_type": "code",
   "execution_count": 13,
   "id": "f382cf6d",
   "metadata": {},
   "outputs": [
    {
     "data": {
      "text/plain": [
       "Text(0.5, 1.0, 'log_price_change')"
      ]
     },
     "execution_count": 13,
     "metadata": {},
     "output_type": "execute_result"
    },
    {
     "data": {
      "image/png": "[encoded data removed]",
      "text/plain": [
       "<Figure size 640x480 with 1 Axes>"
      ]
     },
     "metadata": {},
     "output_type": "display_data"
    }
   ],
   "source": [
    "#Plot histogram of log_price_change with 1000 bin and title with plotlib\n",
    "df[\"log_price_change\"].hist(bins=100).set_title(\"log_price_change\")"
   ]
  },
  {
   "cell_type": "code",
   "execution_count": null,
   "id": "545d84bf",
   "metadata": {},
   "outputs": [],
   "source": [
    "# Plot histogram of log_price_change with 1000 bin and fall under 99% percentile and title with plotlib\n",
    "df[\"log_price_change\"].hist(bins=100, range=(df[\"log_price_change\"].quantile(0.0001), df[\"log_price_change\"].quantile(0.9999))).set_title(\"log_price_change\")"
   ]
  },
  {
   "cell_type": "code",
   "execution_count": null,
   "id": "a5e09336",
   "metadata": {},
   "outputs": [],
   "source": [
    "math.exp(0.02)"
   ]
  },
  {
   "cell_type": "code",
   "execution_count": null,
   "id": "bef6c2e5",
   "metadata": {},
   "outputs": [],
   "source": [
    "df.tail(20)"
   ]
  }
 ],
 "metadata": {
  "kernelspec": {
   "display_name": "Python [conda env:interactive-analysis] *",
   "language": "python",
   "name": "conda-env-interactive-analysis-py"
  },
  "language_info": {
   "codemirror_mode": {
    "name": "ipython",
    "version": 3
   },
   "file_extension": ".py",
   "mimetype": "text/x-python",
   "name": "python",
   "nbconvert_exporter": "python",
   "pygments_lexer": "ipython3",
   "version": "3.9.16"
  }
 },
 "nbformat": 4,
 "nbformat_minor": 5
}
